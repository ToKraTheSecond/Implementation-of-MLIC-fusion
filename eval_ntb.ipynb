{
 "cells": [
  {
   "cell_type": "markdown",
   "metadata": {},
   "source": [
    "## Paper theory\n",
    "\n",
    "Difference image:\n",
    "\n",
    "\\begin{equation*}\n",
    "D^j = I^j - I^{j-1}\n",
    "\\end{equation*}\n",
    "\n",
    "Decomposed image set reconstruction:\n",
    "\n",
    "\\begin{equation*}\n",
    "I = \\sum_{j=1}^m D^j + I^m\n",
    "\\end{equation*}\n",
    "\n",
    "Enhanced output image is generated via:\n",
    "\n",
    "\\begin{equation*}\n",
    "I^{Result} = I^{Detail} + β ⋅ I^{Base},   0 < β \\le 1\n",
    "\\end{equation*}\n",
    "\n",
    "\n",
    "## Cheatsheet\n",
    "\n",
    "```\n",
    "array[volume, row, column, channel]\n",
    "np.stack(self.decomposed_image_set, axis=0)\n",
    "np.concatenate((arr1, arr2), axis=0)\n",
    "np.empty_like(array)\n",
    "cv2.imread(path_to_image, color_enum | color_enum ...) \n",
    "cv2.IMREAD_GRAYSCALE=0, cv2.IMREAD_COLOR=1, cv2.IMREAD_UNCHANGED=-1, cv2.IMREAD_ANYDEPTH, cv2.IMREAD_ANYCOLOR\n",
    "cv2.imwrite(file_name, file, imwrite_flags)\n",
    "```\n",
    "\n",
    "* [OpenCV 3.4.2 docs](https://docs.opencv.org/3.4.2/)\n",
    "* [math formulas in jupyter notebooks](https://jupyter-notebook.readthedocs.io/en/stable/examples/Notebook/Typesetting%20Equations.html)\n"
   ]
  },
  {
   "cell_type": "code",
   "execution_count": 7,
   "metadata": {},
   "outputs": [],
   "source": [
    "import cv2\n",
    "import matplotlib.pyplot as plt\n",
    "import numpy as np\n",
    "import scipy.ndimage\n",
    "\n",
    "# from bilateral_fusion_MLIC import Bilateral_fusion_MLIC"
   ]
  },
  {
   "cell_type": "code",
   "execution_count": null,
   "metadata": {},
   "outputs": [],
   "source": [
    "mlic_fusion = Bilateral_fusion_MLIC(image_set=test_image_set, kernel_size=3, scale_depth=2, alpha=None, beta=None)\n",
    "result_image = mlic_fusion.fuse()"
   ]
  }
 ],
 "metadata": {
  "kernelspec": {
   "display_name": "Python 3",
   "language": "python",
   "name": "python3"
  },
  "language_info": {
   "codemirror_mode": {
    "name": "ipython",
    "version": 3
   },
   "file_extension": ".py",
   "mimetype": "text/x-python",
   "name": "python",
   "nbconvert_exporter": "python",
   "pygments_lexer": "ipython3",
   "version": "3.7.1"
  }
 },
 "nbformat": 4,
 "nbformat_minor": 2
}
