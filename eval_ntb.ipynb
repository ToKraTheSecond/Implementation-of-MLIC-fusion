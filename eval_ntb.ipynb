{
 "cells": [
  {
   "cell_type": "markdown",
   "metadata": {},
   "source": [
    "# Notes\n",
    "\n",
    "Difference image:\n",
    "\n",
    "\\begin{equation*}\n",
    "D^j = I^j - I^{j-1}\n",
    "\\end{equation*}\n",
    "\n",
    "Decomposed image set reconstruction:\n",
    "\n",
    "\\begin{equation*}\n",
    "I = \\sum_{j=1}^m D^j + I^m\n",
    "\\end{equation*}\n",
    "\n",
    "Enhanced output image is generated via:\n",
    "\n",
    "\\begin{equation*}\n",
    "I^{Result} = I^{Detail} + β ⋅ I^{Base},   0 < β \\le 1\n",
    "\\end{equation*}\n",
    "\n",
    "BF:\n",
    "* base layer: smoothes small changes in intensity while preserving strong edges\n",
    "* detail layer: difference of the original image and the base layer\n",
    "* extend two-scale decomposition into multiscale decomposition in manner similar to the construction of the Laplacian pyramid\n",
    "\n",
    "\n",
    "## Cheatsheet\n",
    "\n",
    "```\n",
    "array[volume, row, column, channel]\n",
    "np.stack(self.decomposed_image_set, axis=0)\n",
    "np.concatenate((arr1, arr2), axis=0)\n",
    "np.empty_like(array)\n",
    "x = np.exp(np.log(x)) # natural log\n",
    "arr = np.where(arr < value, arr ** 2, arr)\n",
    "cv2.imread(path_to_image, color_enum | color_enum ...) \n",
    "# cv2.IMREAD_GRAYSCALE=0, cv2.IMREAD_COLOR=1, cv2.IMREAD_UNCHANGED=-1, cv2.IMREAD_ANYDEPTH, cv2.IMREAD_ANYCOLOR\n",
    "cv2.imwrite(file_name, file, imwrite_flags)\n",
    "```\n",
    "\n",
    "* [math formulas in jupyter notebooks](https://jupyter-notebook.readthedocs.io/en/stable/examples/Notebook/Typesetting%20Equations.html)\n",
    "* [YUV color space wiki page](https://en.wikipedia.org/wiki/YUV)\n"
   ]
  },
  {
   "cell_type": "code",
   "execution_count": null,
   "metadata": {},
   "outputs": [],
   "source": [
    "import cv2\n",
    "import matplotlib.pyplot as plt\n",
    "import numpy as np\n",
    "import scipy.ndimage\n",
    "\n",
    "from bilateral_fusion_MLIC import Bilateral_fusion_MLIC"
   ]
  },
  {
   "cell_type": "code",
   "execution_count": null,
   "metadata": {},
   "outputs": [],
   "source": [
    "path = \"dataset/chard_leaf/\"\n",
    "src1 = cv2.imread(path + \"input-01.bmp\", -1).astype(np.float32)\n",
    "src2 = cv2.imread(path + \"input-02.bmp\", -1).astype(np.float32)\n",
    "src3 = cv2.imread(path + \"input-02.bmp\", -1).astype(np.float32)\n",
    "image_set = [src1, src2, src2]\n",
    "src1.shape"
   ]
  },
  {
   "cell_type": "code",
   "execution_count": null,
   "metadata": {},
   "outputs": [],
   "source": [
    "mlic_fusion = Bilateral_fusion_MLIC(image_set=image_set, kernel_size=3, scale_depth=5, alpha=None, beta=0.8)\n",
    "result_image = mlic_fusion.fuse()"
   ]
  },
  {
   "cell_type": "code",
   "execution_count": null,
   "metadata": {},
   "outputs": [],
   "source": [
    "test = result_image.copy()\n",
    "# test = np.where(np.isnan(test), 0, test)\n",
    "# test = np.where(test <= 0, 0.0001, test)\n",
    "test_reverse = np.exp(test)\n",
    "cv2.imwrite(\"result_image.png\", test_reverse)"
   ]
  },
  {
   "cell_type": "markdown",
   "metadata": {},
   "source": [
    "* difference_set\n",
    "* i_detail_d_set\n",
    "* i_detail_u_set"
   ]
  },
  {
   "cell_type": "code",
   "execution_count": null,
   "metadata": {},
   "outputs": [],
   "source": [
    "np.min(result_image)"
   ]
  },
  {
   "cell_type": "code",
   "execution_count": null,
   "metadata": {},
   "outputs": [],
   "source": [
    "# Save decomposed set\n",
    "for idx, image in enumerate(mlic_fusion.decomposed_image_set):\n",
    "    cv2.imwrite(\"dataset/debug/decomposed\" + str(idx) + \".png\", np.exp(image))\n",
    "\n",
    "# Save difference set\n",
    "for idx, image in enumerate(mlic_fusion.difference_set):\n",
    "    cv2.imwrite(\"dataset/debug/difference\" + str(idx) + \".png\", np.exp(image))\n",
    "\n",
    "# Save result image\n",
    "cv2.imwrite(\"dataset/debug/result_image.png\", result_image)"
   ]
  }
 ],
 "metadata": {
  "kernelspec": {
   "display_name": "Python 3",
   "language": "python",
   "name": "python3"
  },
  "language_info": {
   "codemirror_mode": {
    "name": "ipython",
    "version": 3
   },
   "file_extension": ".py",
   "mimetype": "text/x-python",
   "name": "python",
   "nbconvert_exporter": "python",
   "pygments_lexer": "ipython3",
   "version": "3.8.8"
  }
 },
 "nbformat": 4,
 "nbformat_minor": 4
}
