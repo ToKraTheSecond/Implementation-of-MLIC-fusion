{
 "cells": [
  {
   "cell_type": "markdown",
   "metadata": {},
   "source": [
    "## Paper theory\n",
    "\n",
    "Image *I* can be reconstructed via:\n",
    "\n",
    "\\begin{equation*}\n",
    "I = \\sum_{j=1}^m D^j + I^m\n",
    "\\end{equation*}\n",
    "\n",
    "Enhanced output image is generated via:\n",
    "\n",
    "\\begin{equation*}\n",
    "I^{Result} = I^{Detail} + β ⋅ I^{Base},   0 < β \\le 1\n",
    "\\end{equation*}\n",
    "\n",
    "\n",
    "## Cheatsheet\n",
    "\n",
    "```\n",
    "np.int_(np.exp(mlic_fusion.log_y_channel_set[0]))\n",
    "np.int_(mlic_fusion.converted_image_set[0][:,:,0])\n",
    "np.int_(np.exp(mlic_fusion.decomposed_set[0][1]))\n",
    "```"
   ]
  },
  {
   "cell_type": "code",
   "execution_count": 2,
   "metadata": {},
   "outputs": [],
   "source": [
    "import cv2\n",
    "import matplotlib.pyplot as plt\n",
    "import numpy as np\n",
    "\n",
    "from bilateral_fusion_MLIC import Bilateral_fusion_MLIC"
   ]
  },
  {
   "cell_type": "code",
   "execution_count": 3,
   "metadata": {},
   "outputs": [],
   "source": [
    "test_image = cv2.imread('test_images/lena_roi.png', 1)\n",
    "test_image_set = [test_image]"
   ]
  },
  {
   "cell_type": "code",
   "execution_count": 4,
   "metadata": {},
   "outputs": [],
   "source": [
    "mlic_fusion = Bilateral_fusion_MLIC(image_set=test_image_set, kernel_size=3, scale_depth=2, alpha=None, beta=None)\n",
    "dec_set = mlic_fusion.fuse()"
   ]
  }
 ],
 "metadata": {
  "kernelspec": {
   "display_name": "Python 3",
   "language": "python",
   "name": "python3"
  },
  "language_info": {
   "codemirror_mode": {
    "name": "ipython",
    "version": 3
   },
   "file_extension": ".py",
   "mimetype": "text/x-python",
   "name": "python",
   "nbconvert_exporter": "python",
   "pygments_lexer": "ipython3",
   "version": "3.7.1"
  }
 },
 "nbformat": 4,
 "nbformat_minor": 2
}
